{
  "cells": [
    {
      "cell_type": "markdown",
      "id": "f7444f30-0883-4a87-8e00-c5e5591a2a26",
      "metadata": {
        "id": "f7444f30-0883-4a87-8e00-c5e5591a2a26"
      },
      "source": [
        "## Import"
      ]
    },
    {
      "cell_type": "code",
      "execution_count": null,
      "id": "b85832b1-9f31-41e4-b934-cc260e5b3b1d",
      "metadata": {
        "id": "b85832b1-9f31-41e4-b934-cc260e5b3b1d"
      },
      "outputs": [],
      "source": [
        "import random\n",
        "import os\n",
        "import pandas as pd\n",
        "import numpy as np\n",
        "from tqdm.auto import tqdm\n",
        "from sklearn.preprocessing import LabelEncoder\n",
        "\n",
        "import torch\n",
        "import torch.nn as nn\n",
        "import torch.optim as optim\n",
        "import torch.nn.functional as F\n",
        "from torch.utils.data import Dataset, DataLoader, random_split"
      ]
    },
    {
      "cell_type": "code",
      "execution_count": null,
      "id": "b0259cfd-b37c-4716-aacf-c91d77e41480",
      "metadata": {
        "id": "b0259cfd-b37c-4716-aacf-c91d77e41480"
      },
      "outputs": [],
      "source": [
        "device = torch.device('cuda') if torch.cuda.is_available() else torch.device('cpu')"
      ]
    },
    {
      "cell_type": "markdown",
      "id": "07c2d47b-e9da-47e5-9155-cce997e63481",
      "metadata": {
        "id": "07c2d47b-e9da-47e5-9155-cce997e63481"
      },
      "source": [
        "## Hyperparameter Setting"
      ]
    },
    {
      "cell_type": "code",
      "execution_count": null,
      "id": "c9f50013-6513-44fd-8e48-06dd12ec3f63",
      "metadata": {
        "id": "c9f50013-6513-44fd-8e48-06dd12ec3f63"
      },
      "outputs": [],
      "source": [
        "CFG = {\n",
        "    'TRAIN_WINDOW_SIZE':90, # 90일치로 학습\n",
        "    'PREDICT_SIZE':21, # 21일치 예측\n",
        "    'EPOCHS':11,\n",
        "    'LEARNING_RATE':1e-4,\n",
        "    'BATCH_SIZE':4096,\n",
        "    'SEED':40\n",
        "}"
      ]
    },
    {
      "cell_type": "code",
      "execution_count": null,
      "id": "44cdbe67-eda2-42ef-bc35-0a2bfd99f211",
      "metadata": {
        "id": "44cdbe67-eda2-42ef-bc35-0a2bfd99f211"
      },
      "outputs": [],
      "source": [
        "def seed_everything(seed):\n",
        "    random.seed(seed)\n",
        "    os.environ['PYTHONHASHSEED'] = str(seed)\n",
        "    np.random.seed(seed)\n",
        "    torch.manual_seed(seed)\n",
        "    torch.cuda.manual_seed(seed)\n",
        "    torch.backends.cudnn.deterministic = True\n",
        "    torch.backends.cudnn.benchmark = True\n",
        "\n",
        "seed_everything(CFG['SEED']) # Seed 고정"
      ]
    },
    {
      "cell_type": "markdown",
      "id": "7d68c38e",
      "metadata": {
        "id": "7d68c38e"
      },
      "source": [
        "### 데이터 불러오기"
      ]
    },
    {
      "cell_type": "code",
      "source": [
        "from google.colab import drive\n",
        "drive.mount('/content/drive')"
      ],
      "metadata": {
        "colab": {
          "base_uri": "https://localhost:8080/"
        },
        "id": "ayd98PmvTuk3",
        "outputId": "67fc2898-071d-4a99-ead9-d4339d1d49ee"
      },
      "id": "ayd98PmvTuk3",
      "execution_count": null,
      "outputs": [
        {
          "output_type": "stream",
          "name": "stdout",
          "text": [
            "Mounted at /content/drive\n"
          ]
        }
      ]
    },
    {
      "cell_type": "code",
      "execution_count": null,
      "id": "e3b89389",
      "metadata": {
        "id": "e3b89389"
      },
      "outputs": [],
      "source": [
        "train_data = pd.read_csv('/content/drive/MyDrive/Colab Notebooks/train.csv').drop(columns=['ID', '제품'])"
      ]
    },
    {
      "cell_type": "markdown",
      "id": "d21e80a6",
      "metadata": {
        "id": "d21e80a6"
      },
      "source": [
        "### 데이터 전처리"
      ]
    },
    {
      "cell_type": "code",
      "source": [
        "# 숫자형 변수들의 min-max scaling을 수행하는 코드입니다.\n",
        "numeric_cols = train_data.columns[4:]\n",
        "\n",
        "# 각 column의 min 및 max 계산\n",
        "min_values = train_data[numeric_cols].min(axis=1)\n",
        "max_values = train_data[numeric_cols].max(axis=1)\n",
        "\n",
        "# 각 행의 범위(max-min)를 계산하고, 범위가 0인 경우 1로 대체\n",
        "ranges = max_values - min_values\n",
        "ranges[ranges == 0] = 1\n",
        "# min-max scaling 수행\n",
        "train_data[numeric_cols] = (train_data[numeric_cols].subtract(min_values, axis=0)).div(ranges, axis=0)\n",
        "\n",
        "# max와 min 값을 dictionary 형태로 저장\n",
        "scale_min_dict = min_values.to_dict()\n",
        "scale_max_dict = max_values.to_dict()"
      ],
      "metadata": {
        "id": "3A-ZQOZ6_55z"
      },
      "id": "3A-ZQOZ6_55z",
      "execution_count": null,
      "outputs": []
    },
    {
      "cell_type": "code",
      "execution_count": null,
      "id": "9509bd54-9333-4ec7-b197-b70d3c1408ef",
      "metadata": {
        "id": "9509bd54-9333-4ec7-b197-b70d3c1408ef"
      },
      "outputs": [],
      "source": [
        "# # Data Scaling\n",
        "# scale_max_dict = {}\n",
        "# scale_min_dict = {}\n",
        "\n",
        "# for idx in tqdm(range(len(train_data))):\n",
        "#     maxi = np.max(train_data.iloc[idx,4:])\n",
        "#     mini = np.min(train_data.iloc[idx,4:])\n",
        "\n",
        "#     if maxi == mini :\n",
        "#         train_data.iloc[idx,4:] = 0\n",
        "#     else:\n",
        "#         train_data.iloc[idx,4:] = (train_data.iloc[idx,4:] - mini) / (maxi - mini)\n",
        "\n",
        "#     scale_max_dict[idx] = maxi\n",
        "#     scale_min_dict[idx] = mini"
      ]
    },
    {
      "cell_type": "code",
      "execution_count": null,
      "id": "7c83c51b-f979-4930-9372-f03bdb33abc5",
      "metadata": {
        "id": "7c83c51b-f979-4930-9372-f03bdb33abc5"
      },
      "outputs": [],
      "source": [
        "# Label Encoding\n",
        "label_encoder = LabelEncoder()\n",
        "categorical_columns = ['대분류', '중분류', '소분류', '브랜드']\n",
        "\n",
        "for col in categorical_columns:\n",
        "    label_encoder.fit(train_data[col])\n",
        "    train_data[col] = label_encoder.transform(train_data[col])"
      ]
    },
    {
      "cell_type": "markdown",
      "id": "3b2f3d76-fcf4-4866-a578-6bb76783bbed",
      "metadata": {
        "id": "3b2f3d76-fcf4-4866-a578-6bb76783bbed"
      },
      "source": [
        "### Custom Dataset"
      ]
    },
    {
      "cell_type": "code",
      "execution_count": null,
      "id": "4ec0a970-4d99-486d-b9b5-210f3cdca353",
      "metadata": {
        "id": "4ec0a970-4d99-486d-b9b5-210f3cdca353"
      },
      "outputs": [],
      "source": [
        "class CustomDataset(Dataset):\n",
        "    def __init__(self, data, train_size=CFG['TRAIN_WINDOW_SIZE'], predict_size=CFG['PREDICT_SIZE'], is_inference=False):\n",
        "        self.data = data.values # convert DataFrame to numpy array\n",
        "        self.train_size = train_size\n",
        "        self.predict_size = predict_size\n",
        "        self.window_size = self.train_size + self.predict_size\n",
        "        self.is_inference = is_inference\n",
        "\n",
        "    def __len__(self):\n",
        "        if self.is_inference:\n",
        "            return len(self.data)\n",
        "        else:\n",
        "            return self.data.shape[0] * (self.data.shape[1] - self.window_size - 3)\n",
        "\n",
        "    def __getitem__(self, idx):\n",
        "        if self.is_inference:\n",
        "            # 추론 시\n",
        "            encode_info = self.data[idx, :4]\n",
        "            window = self.data[idx, -self.train_size:]\n",
        "            input_data = np.column_stack((np.tile(encode_info, (self.train_size, 1)), window))\n",
        "            return input_data\n",
        "        else:\n",
        "            # 학습 시\n",
        "            row = idx // (self.data.shape[1] - self.window_size - 3)\n",
        "            col = idx % (self.data.shape[1] - self.window_size - 3)\n",
        "            encode_info = self.data[row, :4]\n",
        "            sales_data = self.data[row, 4:]\n",
        "            window = sales_data[col : col + self.window_size]\n",
        "            input_data = np.column_stack((np.tile(encode_info, (self.train_size, 1)), window[:self.train_size]))\n",
        "            target_data = window[self.train_size:]\n",
        "            return input_data, target_data"
      ]
    },
    {
      "cell_type": "code",
      "execution_count": null,
      "id": "3614347b-da14-466f-9d04-b81e5448a9bd",
      "metadata": {
        "id": "3614347b-da14-466f-9d04-b81e5448a9bd"
      },
      "outputs": [],
      "source": [
        "# CustomDataset 인스턴스 생성\n",
        "dataset = CustomDataset(train_data)\n",
        "\n",
        "# 전체 데이터셋의 크기\n",
        "total_size = len(dataset)\n",
        "\n",
        "# 분리할 데이터셋의 크기 계산\n",
        "train_size = int(total_size * 0.8)\n",
        "val_size = total_size - train_size\n",
        "\n",
        "# random_split 함수를 사용해 데이터셋 분리\n",
        "train_dataset, val_dataset = random_split(dataset, [train_size, val_size])\n",
        "\n",
        "# DataLoader 인스턴스 생성\n",
        "train_loader = DataLoader(train_dataset, batch_size=CFG['BATCH_SIZE'], shuffle=True)\n",
        "val_loader = DataLoader(val_dataset, batch_size=CFG['BATCH_SIZE'], shuffle=False)"
      ]
    },
    {
      "cell_type": "markdown",
      "id": "c63f0b66-817d-49ff-9163-a975fb0f239d",
      "metadata": {
        "id": "c63f0b66-817d-49ff-9163-a975fb0f239d"
      },
      "source": [
        "### 모델 선언"
      ]
    },
    {
      "cell_type": "code",
      "execution_count": null,
      "id": "7927d7ef-e6dd-4ac4-8b89-e3a216c37e5a",
      "metadata": {
        "id": "7927d7ef-e6dd-4ac4-8b89-e3a216c37e5a"
      },
      "outputs": [],
      "source": [
        "class BaseModel(nn.Module):\n",
        "    def __init__(self, input_size=5, hidden_size=512, output_size=CFG['PREDICT_SIZE']):\n",
        "        super(BaseModel, self).__init__()\n",
        "        self.hidden_size = hidden_size\n",
        "        self.lstm = nn.LSTM(input_size, hidden_size, batch_first=True)\n",
        "        self.fc = nn.Sequential(\n",
        "            nn.Linear(hidden_size, hidden_size//2),\n",
        "            nn.ReLU(),\n",
        "            nn.Dropout(),\n",
        "            nn.Linear(hidden_size//2, output_size)\n",
        "        )\n",
        "\n",
        "        self.actv = nn.ReLU()\n",
        "\n",
        "    def forward(self, x):\n",
        "        # x shape: (B, TRAIN_WINDOW_SIZE, 5)\n",
        "        batch_size = x.size(0)\n",
        "        hidden = self.init_hidden(batch_size, x.device)\n",
        "\n",
        "        # LSTM layer\n",
        "        lstm_out, hidden = self.lstm(x, hidden)\n",
        "\n",
        "        # Only use the last output sequence\n",
        "        last_output = lstm_out[:, -1, :]\n",
        "\n",
        "        # Fully connected layer\n",
        "        output = self.actv(self.fc(last_output))\n",
        "\n",
        "        return output.squeeze(1)\n",
        "\n",
        "    def init_hidden(self, batch_size, device):\n",
        "        # Initialize hidden state and cell state\n",
        "        return (torch.zeros(1, batch_size, self.hidden_size, device=device),\n",
        "                torch.zeros(1, batch_size, self.hidden_size, device=device))"
      ]
    },
    {
      "cell_type": "markdown",
      "id": "b4f79f7d",
      "metadata": {
        "id": "b4f79f7d"
      },
      "source": [
        "### 모델 학습"
      ]
    },
    {
      "cell_type": "code",
      "execution_count": null,
      "id": "ff73d757-32d5-4868-afbb-1b9f2ea13826",
      "metadata": {
        "id": "ff73d757-32d5-4868-afbb-1b9f2ea13826"
      },
      "outputs": [],
      "source": [
        "def train(model, optimizer, train_loader, val_loader, device):\n",
        "    model.to(device)\n",
        "    criterion = nn.MSELoss().to(device)\n",
        "    best_loss = 9999999\n",
        "    best_model = None\n",
        "\n",
        "    for epoch in range(1, CFG['EPOCHS']+1):\n",
        "        model.train()\n",
        "        train_loss = []\n",
        "        train_mae = []\n",
        "        for X, Y in tqdm(iter(train_loader)):\n",
        "            X = X.float().to(device)\n",
        "            Y = Y.float().to(device)\n",
        "\n",
        "            optimizer.zero_grad()\n",
        "\n",
        "            output = model(X)\n",
        "            loss = criterion(output, Y)\n",
        "\n",
        "            loss.backward()\n",
        "            optimizer.step()\n",
        "\n",
        "            train_loss.append(loss.item())\n",
        "\n",
        "        val_loss = validation(model, val_loader, criterion, device)\n",
        "        print(f'Epoch : [{epoch}] Train Loss : [{np.mean(train_loss):.5f}] Val Loss : [{val_loss:.5f}]')\n",
        "\n",
        "        if best_loss > val_loss:\n",
        "            best_loss = val_loss\n",
        "            best_model = model\n",
        "            print('Model Saved')\n",
        "    return best_model"
      ]
    },
    {
      "cell_type": "code",
      "execution_count": null,
      "id": "bbe1802a-35ff-4b43-a1a8-16c8079baf68",
      "metadata": {
        "id": "bbe1802a-35ff-4b43-a1a8-16c8079baf68"
      },
      "outputs": [],
      "source": [
        "def validation(model, val_loader, criterion, device):\n",
        "    model.eval()\n",
        "    val_loss = []\n",
        "\n",
        "    with torch.no_grad():\n",
        "        for X, Y in tqdm(iter(val_loader)):\n",
        "            X = X.float().to(device)\n",
        "            Y = Y.float().to(device)\n",
        "\n",
        "            output = model(X)\n",
        "            loss = criterion(output, Y)\n",
        "\n",
        "            val_loss.append(loss.item())\n",
        "    return np.mean(val_loss)"
      ]
    },
    {
      "cell_type": "markdown",
      "id": "1c83fa73-30d5-489c-852b-d655f76a200c",
      "metadata": {
        "id": "1c83fa73-30d5-489c-852b-d655f76a200c"
      },
      "source": [
        "## Run !!"
      ]
    },
    {
      "cell_type": "code",
      "execution_count": null,
      "id": "a1570b00-a309-4e5e-b53d-5848ba53eb19",
      "metadata": {
        "colab": {
          "base_uri": "https://localhost:8080/",
          "height": 49,
          "referenced_widgets": [
            "e6d7ce9a606b41dfb079c1c8a7f70104",
            "e40afa583eb9433399b05de13784752a",
            "bbe9afdfea0f4063a2e324e2c066523e",
            "87a902bc3d3447ceba649166d424fab2",
            "ae48c35cd0b64351b5998cbc1bf361bf",
            "aa7f7cdf773e4cccb0839b2816f689f9",
            "64d27b3ff42c452f86476d9e02759525",
            "ebde5a990101484aa265d1780aeac891",
            "a2968541466648238023a7471e52f3ac",
            "fb93b48519924a8491722c808a3e152d",
            "6eae0344f0ae4bc48f1ea444240695b6"
          ]
        },
        "id": "a1570b00-a309-4e5e-b53d-5848ba53eb19",
        "outputId": "474b3815-ecd8-48ea-a7ff-98f637f7cdf9"
      },
      "outputs": [
        {
          "output_type": "display_data",
          "data": {
            "text/plain": [
              "  0%|          | 0/1084 [00:00<?, ?it/s]"
            ],
            "application/vnd.jupyter.widget-view+json": {
              "version_major": 2,
              "version_minor": 0,
              "model_id": "e6d7ce9a606b41dfb079c1c8a7f70104"
            }
          },
          "metadata": {}
        }
      ],
      "source": [
        "model = BaseModel()\n",
        "optimizer = torch.optim.Adam(params = model.parameters(), lr = CFG[\"LEARNING_RATE\"])\n",
        "infer_model = train(model, optimizer, train_loader, val_loader, device)"
      ]
    },
    {
      "cell_type": "markdown",
      "id": "36b20af7-f5b1-4a7a-8eb9-7dde5bbf3d04",
      "metadata": {
        "id": "36b20af7-f5b1-4a7a-8eb9-7dde5bbf3d04"
      },
      "source": [
        "## 모델 추론"
      ]
    },
    {
      "cell_type": "code",
      "execution_count": null,
      "id": "b01d7ca0-899e-4515-a43e-890549f8f3c7",
      "metadata": {
        "id": "b01d7ca0-899e-4515-a43e-890549f8f3c7"
      },
      "outputs": [],
      "source": [
        "test_dataset = CustomDataset(data=train_data, is_inference=True)\n",
        "test_loader = DataLoader(test_dataset, batch_size=CFG['BATCH_SIZE'], shuffle=False)"
      ]
    },
    {
      "cell_type": "code",
      "execution_count": null,
      "id": "214f30d4-2b19-479f-89b7-bf5bb2adc111",
      "metadata": {
        "id": "214f30d4-2b19-479f-89b7-bf5bb2adc111"
      },
      "outputs": [],
      "source": [
        "def inference(model, test_loader, device):\n",
        "    predictions = []\n",
        "\n",
        "    with torch.no_grad():\n",
        "        for X in tqdm(iter(test_loader)):\n",
        "            X = X.float().to(device)\n",
        "\n",
        "            output = model(X)\n",
        "\n",
        "            # 모델 출력인 output을 CPU로 이동하고 numpy 배열로 변환\n",
        "            output = output.cpu().numpy()\n",
        "\n",
        "            predictions.extend(output)\n",
        "\n",
        "    return np.array(predictions)"
      ]
    },
    {
      "cell_type": "code",
      "execution_count": null,
      "id": "6b76e053-6fd2-44a7-8631-d903e7ffa292",
      "metadata": {
        "id": "6b76e053-6fd2-44a7-8631-d903e7ffa292"
      },
      "outputs": [],
      "source": [
        "pred = inference(infer_model, test_loader, device)"
      ]
    },
    {
      "cell_type": "code",
      "execution_count": null,
      "id": "517978aa-445a-4ece-9217-432682f71230",
      "metadata": {
        "id": "517978aa-445a-4ece-9217-432682f71230"
      },
      "outputs": [],
      "source": [
        "# 추론 결과를 inverse scaling\n",
        "for idx in range(len(pred)):\n",
        "    pred[idx, :] = pred[idx, :] * (scale_max_dict[idx] - scale_min_dict[idx]) + scale_min_dict[idx]\n",
        "\n",
        "# 결과 후처리\n",
        "pred = np.round(pred, 0).astype(int)"
      ]
    },
    {
      "cell_type": "code",
      "execution_count": null,
      "id": "c90fa77e-fd03-4539-98fe-563fe2a25121",
      "metadata": {
        "id": "c90fa77e-fd03-4539-98fe-563fe2a25121"
      },
      "outputs": [],
      "source": [
        "pred.shape"
      ]
    },
    {
      "cell_type": "markdown",
      "id": "a48b50eb-d2d8-4c2d-a5e7-9607220fd794",
      "metadata": {
        "id": "a48b50eb-d2d8-4c2d-a5e7-9607220fd794"
      },
      "source": [
        "## Submission"
      ]
    },
    {
      "cell_type": "code",
      "execution_count": null,
      "id": "b78c84bb-5dbe-4fb3-aff0-7e229ae29a8d",
      "metadata": {
        "id": "b78c84bb-5dbe-4fb3-aff0-7e229ae29a8d"
      },
      "outputs": [],
      "source": [
        "submit = pd.read_csv('/content/drive/MyDrive/Colab Notebooks/온라인 채널 제품 판매량 예측/sample_submission.csv')\n",
        "submit.head()"
      ]
    },
    {
      "cell_type": "code",
      "execution_count": null,
      "id": "2db62d9c-b3ad-440a-8cc7-4897b2e4860f",
      "metadata": {
        "id": "2db62d9c-b3ad-440a-8cc7-4897b2e4860f"
      },
      "outputs": [],
      "source": [
        "submit.iloc[:,1:] = pred\n",
        "submit.head()"
      ]
    },
    {
      "cell_type": "code",
      "execution_count": null,
      "id": "4142f749-f20f-4797-b586-581e5c778297",
      "metadata": {
        "id": "4142f749-f20f-4797-b586-581e5c778297"
      },
      "outputs": [],
      "source": [
        "submit.to_csv('/content/drive/MyDrive/Colab Notebooks/온라인 채널 제품 판매량 예측/baseline_submit_colab_2.csv', index=False)"
      ]
    },
    {
      "cell_type": "code",
      "source": [],
      "metadata": {
        "id": "2p3FPR3cAXfa"
      },
      "id": "2p3FPR3cAXfa",
      "execution_count": null,
      "outputs": []
    }
  ],
  "metadata": {
    "accelerator": "GPU",
    "colab": {
      "gpuType": "T4",
      "provenance": []
    },
    "kernelspec": {
      "display_name": "PyTorch 1.14 (NGC 22.12/Python 3.8) on Backend.AI",
      "language": "python",
      "name": "python3"
    },
    "language_info": {
      "codemirror_mode": {
        "name": "ipython",
        "version": 3
      },
      "file_extension": ".py",
      "mimetype": "text/x-python",
      "name": "python",
      "nbconvert_exporter": "python",
      "pygments_lexer": "ipython3",
      "version": "3.8.10"
    },
    "widgets": {
      "application/vnd.jupyter.widget-state+json": {
        "e6d7ce9a606b41dfb079c1c8a7f70104": {
          "model_module": "@jupyter-widgets/controls",
          "model_name": "HBoxModel",
          "model_module_version": "1.5.0",
          "state": {
            "_dom_classes": [],
            "_model_module": "@jupyter-widgets/controls",
            "_model_module_version": "1.5.0",
            "_model_name": "HBoxModel",
            "_view_count": null,
            "_view_module": "@jupyter-widgets/controls",
            "_view_module_version": "1.5.0",
            "_view_name": "HBoxView",
            "box_style": "",
            "children": [
              "IPY_MODEL_e40afa583eb9433399b05de13784752a",
              "IPY_MODEL_bbe9afdfea0f4063a2e324e2c066523e",
              "IPY_MODEL_87a902bc3d3447ceba649166d424fab2"
            ],
            "layout": "IPY_MODEL_ae48c35cd0b64351b5998cbc1bf361bf"
          }
        },
        "e40afa583eb9433399b05de13784752a": {
          "model_module": "@jupyter-widgets/controls",
          "model_name": "HTMLModel",
          "model_module_version": "1.5.0",
          "state": {
            "_dom_classes": [],
            "_model_module": "@jupyter-widgets/controls",
            "_model_module_version": "1.5.0",
            "_model_name": "HTMLModel",
            "_view_count": null,
            "_view_module": "@jupyter-widgets/controls",
            "_view_module_version": "1.5.0",
            "_view_name": "HTMLView",
            "description": "",
            "description_tooltip": null,
            "layout": "IPY_MODEL_aa7f7cdf773e4cccb0839b2816f689f9",
            "placeholder": "​",
            "style": "IPY_MODEL_64d27b3ff42c452f86476d9e02759525",
            "value": "  0%"
          }
        },
        "bbe9afdfea0f4063a2e324e2c066523e": {
          "model_module": "@jupyter-widgets/controls",
          "model_name": "FloatProgressModel",
          "model_module_version": "1.5.0",
          "state": {
            "_dom_classes": [],
            "_model_module": "@jupyter-widgets/controls",
            "_model_module_version": "1.5.0",
            "_model_name": "FloatProgressModel",
            "_view_count": null,
            "_view_module": "@jupyter-widgets/controls",
            "_view_module_version": "1.5.0",
            "_view_name": "ProgressView",
            "bar_style": "",
            "description": "",
            "description_tooltip": null,
            "layout": "IPY_MODEL_ebde5a990101484aa265d1780aeac891",
            "max": 1084,
            "min": 0,
            "orientation": "horizontal",
            "style": "IPY_MODEL_a2968541466648238023a7471e52f3ac",
            "value": 0
          }
        },
        "87a902bc3d3447ceba649166d424fab2": {
          "model_module": "@jupyter-widgets/controls",
          "model_name": "HTMLModel",
          "model_module_version": "1.5.0",
          "state": {
            "_dom_classes": [],
            "_model_module": "@jupyter-widgets/controls",
            "_model_module_version": "1.5.0",
            "_model_name": "HTMLModel",
            "_view_count": null,
            "_view_module": "@jupyter-widgets/controls",
            "_view_module_version": "1.5.0",
            "_view_name": "HTMLView",
            "description": "",
            "description_tooltip": null,
            "layout": "IPY_MODEL_fb93b48519924a8491722c808a3e152d",
            "placeholder": "​",
            "style": "IPY_MODEL_6eae0344f0ae4bc48f1ea444240695b6",
            "value": " 0/1084 [00:00&lt;?, ?it/s]"
          }
        },
        "ae48c35cd0b64351b5998cbc1bf361bf": {
          "model_module": "@jupyter-widgets/base",
          "model_name": "LayoutModel",
          "model_module_version": "1.2.0",
          "state": {
            "_model_module": "@jupyter-widgets/base",
            "_model_module_version": "1.2.0",
            "_model_name": "LayoutModel",
            "_view_count": null,
            "_view_module": "@jupyter-widgets/base",
            "_view_module_version": "1.2.0",
            "_view_name": "LayoutView",
            "align_content": null,
            "align_items": null,
            "align_self": null,
            "border": null,
            "bottom": null,
            "display": null,
            "flex": null,
            "flex_flow": null,
            "grid_area": null,
            "grid_auto_columns": null,
            "grid_auto_flow": null,
            "grid_auto_rows": null,
            "grid_column": null,
            "grid_gap": null,
            "grid_row": null,
            "grid_template_areas": null,
            "grid_template_columns": null,
            "grid_template_rows": null,
            "height": null,
            "justify_content": null,
            "justify_items": null,
            "left": null,
            "margin": null,
            "max_height": null,
            "max_width": null,
            "min_height": null,
            "min_width": null,
            "object_fit": null,
            "object_position": null,
            "order": null,
            "overflow": null,
            "overflow_x": null,
            "overflow_y": null,
            "padding": null,
            "right": null,
            "top": null,
            "visibility": null,
            "width": null
          }
        },
        "aa7f7cdf773e4cccb0839b2816f689f9": {
          "model_module": "@jupyter-widgets/base",
          "model_name": "LayoutModel",
          "model_module_version": "1.2.0",
          "state": {
            "_model_module": "@jupyter-widgets/base",
            "_model_module_version": "1.2.0",
            "_model_name": "LayoutModel",
            "_view_count": null,
            "_view_module": "@jupyter-widgets/base",
            "_view_module_version": "1.2.0",
            "_view_name": "LayoutView",
            "align_content": null,
            "align_items": null,
            "align_self": null,
            "border": null,
            "bottom": null,
            "display": null,
            "flex": null,
            "flex_flow": null,
            "grid_area": null,
            "grid_auto_columns": null,
            "grid_auto_flow": null,
            "grid_auto_rows": null,
            "grid_column": null,
            "grid_gap": null,
            "grid_row": null,
            "grid_template_areas": null,
            "grid_template_columns": null,
            "grid_template_rows": null,
            "height": null,
            "justify_content": null,
            "justify_items": null,
            "left": null,
            "margin": null,
            "max_height": null,
            "max_width": null,
            "min_height": null,
            "min_width": null,
            "object_fit": null,
            "object_position": null,
            "order": null,
            "overflow": null,
            "overflow_x": null,
            "overflow_y": null,
            "padding": null,
            "right": null,
            "top": null,
            "visibility": null,
            "width": null
          }
        },
        "64d27b3ff42c452f86476d9e02759525": {
          "model_module": "@jupyter-widgets/controls",
          "model_name": "DescriptionStyleModel",
          "model_module_version": "1.5.0",
          "state": {
            "_model_module": "@jupyter-widgets/controls",
            "_model_module_version": "1.5.0",
            "_model_name": "DescriptionStyleModel",
            "_view_count": null,
            "_view_module": "@jupyter-widgets/base",
            "_view_module_version": "1.2.0",
            "_view_name": "StyleView",
            "description_width": ""
          }
        },
        "ebde5a990101484aa265d1780aeac891": {
          "model_module": "@jupyter-widgets/base",
          "model_name": "LayoutModel",
          "model_module_version": "1.2.0",
          "state": {
            "_model_module": "@jupyter-widgets/base",
            "_model_module_version": "1.2.0",
            "_model_name": "LayoutModel",
            "_view_count": null,
            "_view_module": "@jupyter-widgets/base",
            "_view_module_version": "1.2.0",
            "_view_name": "LayoutView",
            "align_content": null,
            "align_items": null,
            "align_self": null,
            "border": null,
            "bottom": null,
            "display": null,
            "flex": null,
            "flex_flow": null,
            "grid_area": null,
            "grid_auto_columns": null,
            "grid_auto_flow": null,
            "grid_auto_rows": null,
            "grid_column": null,
            "grid_gap": null,
            "grid_row": null,
            "grid_template_areas": null,
            "grid_template_columns": null,
            "grid_template_rows": null,
            "height": null,
            "justify_content": null,
            "justify_items": null,
            "left": null,
            "margin": null,
            "max_height": null,
            "max_width": null,
            "min_height": null,
            "min_width": null,
            "object_fit": null,
            "object_position": null,
            "order": null,
            "overflow": null,
            "overflow_x": null,
            "overflow_y": null,
            "padding": null,
            "right": null,
            "top": null,
            "visibility": null,
            "width": null
          }
        },
        "a2968541466648238023a7471e52f3ac": {
          "model_module": "@jupyter-widgets/controls",
          "model_name": "ProgressStyleModel",
          "model_module_version": "1.5.0",
          "state": {
            "_model_module": "@jupyter-widgets/controls",
            "_model_module_version": "1.5.0",
            "_model_name": "ProgressStyleModel",
            "_view_count": null,
            "_view_module": "@jupyter-widgets/base",
            "_view_module_version": "1.2.0",
            "_view_name": "StyleView",
            "bar_color": null,
            "description_width": ""
          }
        },
        "fb93b48519924a8491722c808a3e152d": {
          "model_module": "@jupyter-widgets/base",
          "model_name": "LayoutModel",
          "model_module_version": "1.2.0",
          "state": {
            "_model_module": "@jupyter-widgets/base",
            "_model_module_version": "1.2.0",
            "_model_name": "LayoutModel",
            "_view_count": null,
            "_view_module": "@jupyter-widgets/base",
            "_view_module_version": "1.2.0",
            "_view_name": "LayoutView",
            "align_content": null,
            "align_items": null,
            "align_self": null,
            "border": null,
            "bottom": null,
            "display": null,
            "flex": null,
            "flex_flow": null,
            "grid_area": null,
            "grid_auto_columns": null,
            "grid_auto_flow": null,
            "grid_auto_rows": null,
            "grid_column": null,
            "grid_gap": null,
            "grid_row": null,
            "grid_template_areas": null,
            "grid_template_columns": null,
            "grid_template_rows": null,
            "height": null,
            "justify_content": null,
            "justify_items": null,
            "left": null,
            "margin": null,
            "max_height": null,
            "max_width": null,
            "min_height": null,
            "min_width": null,
            "object_fit": null,
            "object_position": null,
            "order": null,
            "overflow": null,
            "overflow_x": null,
            "overflow_y": null,
            "padding": null,
            "right": null,
            "top": null,
            "visibility": null,
            "width": null
          }
        },
        "6eae0344f0ae4bc48f1ea444240695b6": {
          "model_module": "@jupyter-widgets/controls",
          "model_name": "DescriptionStyleModel",
          "model_module_version": "1.5.0",
          "state": {
            "_model_module": "@jupyter-widgets/controls",
            "_model_module_version": "1.5.0",
            "_model_name": "DescriptionStyleModel",
            "_view_count": null,
            "_view_module": "@jupyter-widgets/base",
            "_view_module_version": "1.2.0",
            "_view_name": "StyleView",
            "description_width": ""
          }
        }
      }
    }
  },
  "nbformat": 4,
  "nbformat_minor": 5
}